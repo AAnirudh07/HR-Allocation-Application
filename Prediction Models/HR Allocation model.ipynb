{
  "nbformat": 4,
  "nbformat_minor": 0,
  "metadata": {
    "colab": {
      "name": "HR Allocation",
      "provenance": [],
      "collapsed_sections": []
    },
    "kernelspec": {
      "name": "python3",
      "display_name": "Python 3"
    },
    "language_info": {
      "name": "python"
    }
  },
  "cells": [
    {
      "cell_type": "markdown",
      "metadata": {
        "id": "jTTUxq28uIqp"
      },
      "source": [
        "Final Code for predicting the HR score "
      ]
    },
    {
      "cell_type": "code",
      "metadata": {
        "id": "9VWufVpKxyXe"
      },
      "source": [
        "import random\n",
        "import pandas as pd"
      ],
      "execution_count": 135,
      "outputs": []
    },
    {
      "cell_type": "code",
      "metadata": {
        "id": "X3jiYTMuyCzv"
      },
      "source": [
        "def random_team_number():\n",
        "  return random.randint(1,10)"
      ],
      "execution_count": 136,
      "outputs": []
    },
    {
      "cell_type": "code",
      "metadata": {
        "id": "FYrGmu9MuUn6"
      },
      "source": [
        "def random_engg_levels():\n",
        "  teams = random_team_number()\n",
        "  #print(teams)\n",
        "  max_levels = []\n",
        "  for i in range(teams):\n",
        "    for j in range(4):\n",
        "      max_levels.append(random.randint(0,4))\n",
        "  #for i in range(10-teams):\n",
        "    #for j in range(4):\n",
        "      #max_levels.append(0)    \n",
        "  return max_levels,teams"
      ],
      "execution_count": 137,
      "outputs": []
    },
    {
      "cell_type": "code",
      "metadata": {
        "id": "a66nK87wx-GA"
      },
      "source": [
        "def get_random_value():\n",
        "  value_list = [0.1,0.2,0.3]\n",
        "  random_value = random.choices(value_list,weights=(40,40,20),k=1)\n",
        "  return random_value[0]"
      ],
      "execution_count": 138,
      "outputs": []
    },
    {
      "cell_type": "markdown",
      "metadata": {
        "id": "FnzdlS51zFJF"
      },
      "source": [
        "Note: The number of columns in the dataframe is 4x4x10 = 160 columns. Another 160 columns are used for the corresponding HR scores. "
      ]
    },
    {
      "cell_type": "code",
      "metadata": {
        "id": "n6o_OFIjzBVo"
      },
      "source": [
        "def generate_responsibility_matrix(max_levels):\n",
        "    responsibility_matrix = []\n",
        "    for challenges in range(0,8):\n",
        "        probability_impact = []\n",
        "        for max_level in max_levels:\n",
        "            if max_level==0:\n",
        "              for levels in range(4):\n",
        "                probability_impact.append(0.0)\n",
        "            else:\n",
        "              for levels in range(4):\n",
        "                fill = random.choices([0,1],weights=(95,5),k=1)[0]\n",
        "                if(fill and (sum(probability_impact)<1)):\n",
        "                    if(sum(probability_impact)<0.7):\n",
        "                        probability_impact.append(get_random_value())   \n",
        "                    else:\n",
        "                        probability_impact.append(round(0.9 - sum(probability_impact),1))\n",
        "                else:\n",
        "                    probability_impact.append(0.0)\n",
        "        if sum(probability_impact)!=1:\n",
        "          choice_list = []\n",
        "          for i in range(len(probability_impact)):\n",
        "            if probability_impact[i]!=0: choice_list.append(i)\n",
        "          if len(choice_list)==0: random_num = 4\n",
        "          else: random_num = random.choice(choice_list)\n",
        "          probability_impact[random_num] += round(0.9-sum(probability_impact),1)   \n",
        "        responsibility_matrix.append(probability_impact)\n",
        "    return responsibility_matrix"
      ],
      "execution_count": 139,
      "outputs": []
    },
    {
      "cell_type": "code",
      "source": [
        "def pad(responsibility_matrix,teams):\n",
        "  ret_resp_mat = []\n",
        "  for i in responsibility_matrix: \n",
        "    i+= [0 for i in range(16*(10-teams))]\n",
        "    ret_resp_mat.append(i)\n",
        "  return ret_resp_mat"
      ],
      "metadata": {
        "id": "4nxzTumixehc"
      },
      "execution_count": 140,
      "outputs": []
    },
    {
      "cell_type": "code",
      "source": [
        "def gen_probability_impact_row(responsibility_matrix,teams):\n",
        "  responsibility_matrix  = pad(responsibility_matrix,teams)\n",
        "  #for i in responsibility_matrix: print(len(i),sum(i))\n",
        "  probability_impact_row = []\n",
        "  for col in range(160): \n",
        "    probability_impact_row.append(round(sum(row[col] for row in responsibility_matrix),1))\n",
        "  for i in range(0,16*teams,16):\n",
        "    probability_impact_row[i] += 0.1\n",
        "  return probability_impact_row"
      ],
      "metadata": {
        "id": "lyb9bZoipzGN"
      },
      "execution_count": 141,
      "outputs": []
    },
    {
      "cell_type": "code",
      "metadata": {
        "id": "99dI9K6VCPQM"
      },
      "source": [
        "def percent_to_hr(probability_impact_row):\n",
        "  hr_list = []\n",
        "  for frac in probability_impact_row: \n",
        "    i = (frac/8.0)*100\n",
        "    if i >= 42: hr_list.append(6)\n",
        "    elif i>=36 and i<42: hr_list.append(5)\n",
        "    elif i>=30 and i<36: hr_list.append(4)\n",
        "    elif i>=24 and i<30: hr_list.append(3)\n",
        "    elif i>=20 and i<24: hr_list.append(2)\n",
        "    elif i>0 and i<20: hr_list.append(1)\n",
        "    else: hr_list.append(0)\n",
        "  return hr_list"
      ],
      "execution_count": 142,
      "outputs": []
    },
    {
      "cell_type": "code",
      "metadata": {
        "colab": {
          "base_uri": "https://localhost:8080/"
        },
        "id": "tMw0lGoe08XQ",
        "outputId": "ef2d12ad-1a29-49c9-f0f7-8aa9889e4c20"
      },
      "source": [
        "l,teams = random_engg_levels()\n",
        "print(l)\n",
        "ans1 = generate_responsibility_matrix(l)\n",
        "#print(ans1)\n",
        "for i in ans1:\n",
        "  print(len(i),sum(i))\n",
        "ans2 = gen_probability_impact_row(ans1,teams)\n",
        "print(ans2)"
      ],
      "execution_count": 193,
      "outputs": [
        {
          "output_type": "stream",
          "name": "stdout",
          "text": [
            "[1, 4, 0, 1, 2, 2, 0, 2, 1, 3, 1, 3]\n",
            "48 0.9\n",
            "48 0.8999999999999999\n",
            "48 0.9\n",
            "48 0.9\n",
            "48 0.8999999999999999\n",
            "48 0.8999999999999999\n",
            "48 0.9\n",
            "48 0.9\n",
            "[0.1, 0.0, 0.0, 0.0, 3.2, 0.0, 0.0, 0.0, 0.0, 0.0, 0.0, 0.0, 0.2, 0.0, 0.2, 0.9, 0.1, 0.0, 0.0, 0.0, 0.0, 0.0, 0.9, 0.0, 0.0, 0.0, 0.0, 0.0, 0.0, 0.0, 1.1, 0.0, 0.1, 0.0, 0.0, 0.0, 0.0, 0.0, 0.0, 0.0, 0.0, 0.0, 0.0, 0.0, 0.7, 0.0, 0.0, 0.0, 0, 0, 0, 0, 0, 0, 0, 0, 0, 0, 0, 0, 0, 0, 0, 0, 0, 0, 0, 0, 0, 0, 0, 0, 0, 0, 0, 0, 0, 0, 0, 0, 0, 0, 0, 0, 0, 0, 0, 0, 0, 0, 0, 0, 0, 0, 0, 0, 0, 0, 0, 0, 0, 0, 0, 0, 0, 0, 0, 0, 0, 0, 0, 0, 0, 0, 0, 0, 0, 0, 0, 0, 0, 0, 0, 0, 0, 0, 0, 0, 0, 0, 0, 0, 0, 0, 0, 0, 0, 0, 0, 0, 0, 0, 0, 0, 0, 0, 0, 0, 0, 0, 0, 0, 0, 0, 0, 0, 0, 0, 0, 0]\n"
          ]
        }
      ]
    },
    {
      "cell_type": "code",
      "source": [
        "hr_row=percent_to_hr(ans2)\n",
        "teamcount=0\n",
        "i=0\n",
        "while(i+16<=len(hr_row)):\n",
        "  h=sum(hr_row[i:i+16])\n",
        "  print(hr_row[i:i+16],h)\n",
        "  if(h>0):\n",
        "    teamcount=teamcount+1\n",
        "  i=i+16\n",
        "print(teamcount)\n"
      ],
      "metadata": {
        "colab": {
          "base_uri": "https://localhost:8080/"
        },
        "id": "H1QALYz23MSJ",
        "outputId": "bf1d6f5b-2905-42b3-f8c7-8d6e26a0920d"
      },
      "execution_count": 183,
      "outputs": [
        {
          "output_type": "stream",
          "name": "stdout",
          "text": [
            "[1, 1, 1, 1, 0, 1, 0, 1, 0, 0, 0, 0, 0, 0, 0, 0] 6\n",
            "[1, 0, 1, 1, 1, 0, 1, 0, 0, 0, 1, 1, 1, 1, 1, 1] 11\n",
            "[1, 0, 1, 0, 0, 1, 0, 0, 1, 0, 0, 0, 0, 0, 1, 1] 6\n",
            "[1, 0, 0, 1, 1, 0, 1, 0, 0, 1, 0, 1, 0, 0, 1, 0] 7\n",
            "[1, 0, 1, 0, 1, 0, 0, 1, 0, 0, 0, 0, 0, 0, 0, 0] 4\n",
            "[1, 0, 0, 0, 0, 1, 1, 0, 0, 0, 0, 0, 0, 0, 0, 0] 3\n",
            "[1, 0, 0, 0, 0, 0, 0, 0, 0, 0, 0, 0, 0, 0, 0, 0] 1\n",
            "[0, 0, 0, 0, 0, 0, 0, 0, 0, 0, 0, 0, 0, 0, 0, 0] 0\n",
            "[0, 0, 0, 0, 0, 0, 0, 0, 0, 0, 0, 0, 0, 0, 0, 0] 0\n",
            "[0, 0, 0, 0, 0, 0, 0, 0, 0, 0, 0, 0, 0, 0, 0, 0] 0\n",
            "7\n"
          ]
        }
      ]
    },
    {
      "cell_type": "markdown",
      "metadata": {
        "id": "QEZKDZA33ikk"
      },
      "source": [
        "Create the csv file - Takes quite some time to generate the csv files; Use the 'cold start' code snippet for running the prediction model. "
      ]
    },
    {
      "cell_type": "code",
      "metadata": {
        "id": "aIR1xNQy2V_Z"
      },
      "source": [
        "probability_impact_list = []\n",
        "for rows in range(100000):\n",
        "  l,teams = random_engg_levels()\n",
        "  responsibility_matrix = generate_responsibility_matrix(l)\n",
        "  probability_impact_row = gen_probability_impact_row(responsibility_matrix,teams)\n",
        "  hr_row = percent_to_hr(probability_impact_row)\n",
        "  dataframe_row = probability_impact_row + hr_row\n",
        "  probability_impact_list.append(dataframe_row)\n",
        "\n"
      ],
      "execution_count": 145,
      "outputs": []
    },
    {
      "cell_type": "code",
      "metadata": {
        "colab": {
          "base_uri": "https://localhost:8080/"
        },
        "id": "LPFtkjGS-9YD",
        "outputId": "2c1c8b84-c606-4a4b-a756-77d848b56a9d"
      },
      "source": [
        "print(len(probability_impact_list))\n",
        "print(len(probability_impact_list[0]))"
      ],
      "execution_count": 146,
      "outputs": [
        {
          "output_type": "stream",
          "name": "stdout",
          "text": [
            "100000\n",
            "320\n"
          ]
        }
      ]
    },
    {
      "cell_type": "code",
      "metadata": {
        "colab": {
          "base_uri": "https://localhost:8080/"
        },
        "id": "YGnE_wnyA632",
        "outputId": "1b72ec17-08ff-4b60-e7e1-52439e556508"
      },
      "source": [
        "import os\n",
        "from google.colab import drive\n",
        "drive.mount('/content/drive',force_remount=True)\n",
        "os.chdir('/content/drive/My Drive')\n",
        "print(\"Change successful.\")"
      ],
      "execution_count": 147,
      "outputs": [
        {
          "output_type": "stream",
          "name": "stdout",
          "text": [
            "Mounted at /content/drive\n",
            "Change successful.\n"
          ]
        }
      ]
    },
    {
      "cell_type": "code",
      "metadata": {
        "id": "sXP-kJZE_N2E"
      },
      "source": [
        "hr_df = pd.DataFrame(probability_impact_list)\n",
        "hr_df.to_csv('hrdetails.csv')"
      ],
      "execution_count": 148,
      "outputs": []
    },
    {
      "cell_type": "markdown",
      "metadata": {
        "id": "5juJINt-AmqP"
      },
      "source": [
        "Code for neural network cold start"
      ]
    },
    {
      "cell_type": "code",
      "metadata": {
        "id": "pZWF5x6RQlV5"
      },
      "source": [
        "from numpy import absolute\n",
        "from numpy import mean\n",
        "from numpy import std\n",
        "from sklearn.datasets import make_regression\n",
        "from sklearn.tree import DecisionTreeRegressor\n",
        "from sklearn.model_selection import cross_val_score\n",
        "from sklearn.model_selection import RepeatedKFold\n",
        "from sklearn.datasets import make_regression\n",
        "from sklearn.linear_model import LinearRegression\n",
        "from sklearn.neighbors import KNeighborsRegressor"
      ],
      "execution_count": 149,
      "outputs": []
    },
    {
      "cell_type": "code",
      "metadata": {
        "colab": {
          "base_uri": "https://localhost:8080/"
        },
        "id": "i3PqevA2Qq-6",
        "outputId": "5b592e29-8a9b-44ad-aef0-542cff57d7b7"
      },
      "source": [
        "import os\n",
        "from google.colab import drive\n",
        "drive.mount('/content/drive',force_remount=True)\n",
        "os.chdir('/content/drive/My Drive')\n",
        "print(\"Change successful.\")"
      ],
      "execution_count": 150,
      "outputs": [
        {
          "output_type": "stream",
          "name": "stdout",
          "text": [
            "Mounted at /content/drive\n",
            "Change successful.\n"
          ]
        }
      ]
    },
    {
      "cell_type": "code",
      "metadata": {
        "colab": {
          "base_uri": "https://localhost:8080/",
          "height": 255
        },
        "id": "IS-WK9FTAWv0",
        "outputId": "45089e54-0aeb-4345-b2c0-ca8be647821e"
      },
      "source": [
        "df = pd.read_csv(filepath_or_buffer='/content/drive/My Drive/hrdetails.csv',index_col=0);\n",
        "df.columns=[i for i in range(1,321)]\n",
        "df.head()"
      ],
      "execution_count": 151,
      "outputs": [
        {
          "output_type": "execute_result",
          "data": {
            "text/html": [
              "<div>\n",
              "<style scoped>\n",
              "    .dataframe tbody tr th:only-of-type {\n",
              "        vertical-align: middle;\n",
              "    }\n",
              "\n",
              "    .dataframe tbody tr th {\n",
              "        vertical-align: top;\n",
              "    }\n",
              "\n",
              "    .dataframe thead th {\n",
              "        text-align: right;\n",
              "    }\n",
              "</style>\n",
              "<table border=\"1\" class=\"dataframe\">\n",
              "  <thead>\n",
              "    <tr style=\"text-align: right;\">\n",
              "      <th></th>\n",
              "      <th>1</th>\n",
              "      <th>2</th>\n",
              "      <th>3</th>\n",
              "      <th>4</th>\n",
              "      <th>5</th>\n",
              "      <th>6</th>\n",
              "      <th>7</th>\n",
              "      <th>8</th>\n",
              "      <th>9</th>\n",
              "      <th>10</th>\n",
              "      <th>11</th>\n",
              "      <th>12</th>\n",
              "      <th>13</th>\n",
              "      <th>14</th>\n",
              "      <th>15</th>\n",
              "      <th>16</th>\n",
              "      <th>17</th>\n",
              "      <th>18</th>\n",
              "      <th>19</th>\n",
              "      <th>20</th>\n",
              "      <th>21</th>\n",
              "      <th>22</th>\n",
              "      <th>23</th>\n",
              "      <th>24</th>\n",
              "      <th>25</th>\n",
              "      <th>26</th>\n",
              "      <th>27</th>\n",
              "      <th>28</th>\n",
              "      <th>29</th>\n",
              "      <th>30</th>\n",
              "      <th>31</th>\n",
              "      <th>32</th>\n",
              "      <th>33</th>\n",
              "      <th>34</th>\n",
              "      <th>35</th>\n",
              "      <th>36</th>\n",
              "      <th>37</th>\n",
              "      <th>38</th>\n",
              "      <th>39</th>\n",
              "      <th>40</th>\n",
              "      <th>...</th>\n",
              "      <th>281</th>\n",
              "      <th>282</th>\n",
              "      <th>283</th>\n",
              "      <th>284</th>\n",
              "      <th>285</th>\n",
              "      <th>286</th>\n",
              "      <th>287</th>\n",
              "      <th>288</th>\n",
              "      <th>289</th>\n",
              "      <th>290</th>\n",
              "      <th>291</th>\n",
              "      <th>292</th>\n",
              "      <th>293</th>\n",
              "      <th>294</th>\n",
              "      <th>295</th>\n",
              "      <th>296</th>\n",
              "      <th>297</th>\n",
              "      <th>298</th>\n",
              "      <th>299</th>\n",
              "      <th>300</th>\n",
              "      <th>301</th>\n",
              "      <th>302</th>\n",
              "      <th>303</th>\n",
              "      <th>304</th>\n",
              "      <th>305</th>\n",
              "      <th>306</th>\n",
              "      <th>307</th>\n",
              "      <th>308</th>\n",
              "      <th>309</th>\n",
              "      <th>310</th>\n",
              "      <th>311</th>\n",
              "      <th>312</th>\n",
              "      <th>313</th>\n",
              "      <th>314</th>\n",
              "      <th>315</th>\n",
              "      <th>316</th>\n",
              "      <th>317</th>\n",
              "      <th>318</th>\n",
              "      <th>319</th>\n",
              "      <th>320</th>\n",
              "    </tr>\n",
              "  </thead>\n",
              "  <tbody>\n",
              "    <tr>\n",
              "      <th>0</th>\n",
              "      <td>0.1</td>\n",
              "      <td>0.0</td>\n",
              "      <td>0.0</td>\n",
              "      <td>0.3</td>\n",
              "      <td>0.2</td>\n",
              "      <td>0.0</td>\n",
              "      <td>0.0</td>\n",
              "      <td>0.1</td>\n",
              "      <td>0.1</td>\n",
              "      <td>0.3</td>\n",
              "      <td>0.0</td>\n",
              "      <td>0.0</td>\n",
              "      <td>0.0</td>\n",
              "      <td>0.0</td>\n",
              "      <td>0.0</td>\n",
              "      <td>0.0</td>\n",
              "      <td>0.2</td>\n",
              "      <td>0.0</td>\n",
              "      <td>0.0</td>\n",
              "      <td>0.0</td>\n",
              "      <td>0.0</td>\n",
              "      <td>0.0</td>\n",
              "      <td>0.0</td>\n",
              "      <td>0.0</td>\n",
              "      <td>0.0</td>\n",
              "      <td>0.0</td>\n",
              "      <td>0.2</td>\n",
              "      <td>0.1</td>\n",
              "      <td>0.0</td>\n",
              "      <td>0.1</td>\n",
              "      <td>0.1</td>\n",
              "      <td>0.1</td>\n",
              "      <td>0.1</td>\n",
              "      <td>0.0</td>\n",
              "      <td>0.0</td>\n",
              "      <td>0.0</td>\n",
              "      <td>0.1</td>\n",
              "      <td>0.0</td>\n",
              "      <td>0.0</td>\n",
              "      <td>0.0</td>\n",
              "      <td>...</td>\n",
              "      <td>1</td>\n",
              "      <td>1</td>\n",
              "      <td>0</td>\n",
              "      <td>0</td>\n",
              "      <td>0</td>\n",
              "      <td>0</td>\n",
              "      <td>0</td>\n",
              "      <td>0</td>\n",
              "      <td>1</td>\n",
              "      <td>1</td>\n",
              "      <td>0</td>\n",
              "      <td>1</td>\n",
              "      <td>0</td>\n",
              "      <td>0</td>\n",
              "      <td>0</td>\n",
              "      <td>0</td>\n",
              "      <td>0</td>\n",
              "      <td>0</td>\n",
              "      <td>0</td>\n",
              "      <td>0</td>\n",
              "      <td>0</td>\n",
              "      <td>0</td>\n",
              "      <td>0</td>\n",
              "      <td>1</td>\n",
              "      <td>0</td>\n",
              "      <td>0</td>\n",
              "      <td>0</td>\n",
              "      <td>0</td>\n",
              "      <td>0</td>\n",
              "      <td>0</td>\n",
              "      <td>0</td>\n",
              "      <td>0</td>\n",
              "      <td>0</td>\n",
              "      <td>0</td>\n",
              "      <td>0</td>\n",
              "      <td>0</td>\n",
              "      <td>0</td>\n",
              "      <td>0</td>\n",
              "      <td>0</td>\n",
              "      <td>0</td>\n",
              "    </tr>\n",
              "    <tr>\n",
              "      <th>1</th>\n",
              "      <td>0.1</td>\n",
              "      <td>0.0</td>\n",
              "      <td>0.0</td>\n",
              "      <td>0.0</td>\n",
              "      <td>0.0</td>\n",
              "      <td>0.0</td>\n",
              "      <td>0.0</td>\n",
              "      <td>0.0</td>\n",
              "      <td>0.0</td>\n",
              "      <td>0.0</td>\n",
              "      <td>0.3</td>\n",
              "      <td>0.0</td>\n",
              "      <td>0.3</td>\n",
              "      <td>0.2</td>\n",
              "      <td>0.0</td>\n",
              "      <td>0.0</td>\n",
              "      <td>0.1</td>\n",
              "      <td>0.0</td>\n",
              "      <td>0.0</td>\n",
              "      <td>0.0</td>\n",
              "      <td>0.0</td>\n",
              "      <td>0.0</td>\n",
              "      <td>0.0</td>\n",
              "      <td>0.0</td>\n",
              "      <td>0.2</td>\n",
              "      <td>0.0</td>\n",
              "      <td>0.3</td>\n",
              "      <td>0.0</td>\n",
              "      <td>0.3</td>\n",
              "      <td>0.0</td>\n",
              "      <td>0.2</td>\n",
              "      <td>0.0</td>\n",
              "      <td>0.1</td>\n",
              "      <td>0.0</td>\n",
              "      <td>0.2</td>\n",
              "      <td>0.4</td>\n",
              "      <td>0.0</td>\n",
              "      <td>0.0</td>\n",
              "      <td>0.1</td>\n",
              "      <td>0.0</td>\n",
              "      <td>...</td>\n",
              "      <td>0</td>\n",
              "      <td>0</td>\n",
              "      <td>0</td>\n",
              "      <td>0</td>\n",
              "      <td>0</td>\n",
              "      <td>0</td>\n",
              "      <td>0</td>\n",
              "      <td>0</td>\n",
              "      <td>1</td>\n",
              "      <td>0</td>\n",
              "      <td>0</td>\n",
              "      <td>0</td>\n",
              "      <td>0</td>\n",
              "      <td>0</td>\n",
              "      <td>0</td>\n",
              "      <td>0</td>\n",
              "      <td>0</td>\n",
              "      <td>0</td>\n",
              "      <td>0</td>\n",
              "      <td>0</td>\n",
              "      <td>0</td>\n",
              "      <td>0</td>\n",
              "      <td>0</td>\n",
              "      <td>0</td>\n",
              "      <td>1</td>\n",
              "      <td>0</td>\n",
              "      <td>0</td>\n",
              "      <td>0</td>\n",
              "      <td>0</td>\n",
              "      <td>1</td>\n",
              "      <td>0</td>\n",
              "      <td>0</td>\n",
              "      <td>0</td>\n",
              "      <td>0</td>\n",
              "      <td>0</td>\n",
              "      <td>1</td>\n",
              "      <td>0</td>\n",
              "      <td>0</td>\n",
              "      <td>0</td>\n",
              "      <td>0</td>\n",
              "    </tr>\n",
              "    <tr>\n",
              "      <th>2</th>\n",
              "      <td>0.1</td>\n",
              "      <td>0.0</td>\n",
              "      <td>0.0</td>\n",
              "      <td>0.0</td>\n",
              "      <td>0.4</td>\n",
              "      <td>0.3</td>\n",
              "      <td>0.0</td>\n",
              "      <td>0.0</td>\n",
              "      <td>0.0</td>\n",
              "      <td>0.1</td>\n",
              "      <td>0.0</td>\n",
              "      <td>0.2</td>\n",
              "      <td>0.2</td>\n",
              "      <td>0.0</td>\n",
              "      <td>0.0</td>\n",
              "      <td>0.0</td>\n",
              "      <td>0.4</td>\n",
              "      <td>0.1</td>\n",
              "      <td>0.0</td>\n",
              "      <td>0.2</td>\n",
              "      <td>0.0</td>\n",
              "      <td>0.3</td>\n",
              "      <td>0.0</td>\n",
              "      <td>0.0</td>\n",
              "      <td>0.0</td>\n",
              "      <td>0.4</td>\n",
              "      <td>0.0</td>\n",
              "      <td>0.0</td>\n",
              "      <td>0.0</td>\n",
              "      <td>0.0</td>\n",
              "      <td>0.0</td>\n",
              "      <td>0.0</td>\n",
              "      <td>0.1</td>\n",
              "      <td>0.0</td>\n",
              "      <td>0.0</td>\n",
              "      <td>0.0</td>\n",
              "      <td>0.0</td>\n",
              "      <td>0.0</td>\n",
              "      <td>0.0</td>\n",
              "      <td>0.0</td>\n",
              "      <td>...</td>\n",
              "      <td>0</td>\n",
              "      <td>0</td>\n",
              "      <td>0</td>\n",
              "      <td>0</td>\n",
              "      <td>0</td>\n",
              "      <td>0</td>\n",
              "      <td>0</td>\n",
              "      <td>0</td>\n",
              "      <td>0</td>\n",
              "      <td>0</td>\n",
              "      <td>0</td>\n",
              "      <td>0</td>\n",
              "      <td>0</td>\n",
              "      <td>0</td>\n",
              "      <td>0</td>\n",
              "      <td>0</td>\n",
              "      <td>0</td>\n",
              "      <td>0</td>\n",
              "      <td>0</td>\n",
              "      <td>0</td>\n",
              "      <td>0</td>\n",
              "      <td>0</td>\n",
              "      <td>0</td>\n",
              "      <td>0</td>\n",
              "      <td>0</td>\n",
              "      <td>0</td>\n",
              "      <td>0</td>\n",
              "      <td>0</td>\n",
              "      <td>0</td>\n",
              "      <td>0</td>\n",
              "      <td>0</td>\n",
              "      <td>0</td>\n",
              "      <td>0</td>\n",
              "      <td>0</td>\n",
              "      <td>0</td>\n",
              "      <td>0</td>\n",
              "      <td>0</td>\n",
              "      <td>0</td>\n",
              "      <td>0</td>\n",
              "      <td>0</td>\n",
              "    </tr>\n",
              "    <tr>\n",
              "      <th>3</th>\n",
              "      <td>0.2</td>\n",
              "      <td>0.0</td>\n",
              "      <td>0.0</td>\n",
              "      <td>0.3</td>\n",
              "      <td>0.0</td>\n",
              "      <td>0.0</td>\n",
              "      <td>0.1</td>\n",
              "      <td>0.2</td>\n",
              "      <td>0.0</td>\n",
              "      <td>0.0</td>\n",
              "      <td>0.0</td>\n",
              "      <td>0.0</td>\n",
              "      <td>0.0</td>\n",
              "      <td>0.0</td>\n",
              "      <td>0.0</td>\n",
              "      <td>0.9</td>\n",
              "      <td>0.5</td>\n",
              "      <td>0.0</td>\n",
              "      <td>0.0</td>\n",
              "      <td>1.0</td>\n",
              "      <td>0.0</td>\n",
              "      <td>0.3</td>\n",
              "      <td>0.0</td>\n",
              "      <td>0.0</td>\n",
              "      <td>0.0</td>\n",
              "      <td>0.0</td>\n",
              "      <td>0.0</td>\n",
              "      <td>0.0</td>\n",
              "      <td>0.0</td>\n",
              "      <td>0.0</td>\n",
              "      <td>0.0</td>\n",
              "      <td>1.2</td>\n",
              "      <td>0.1</td>\n",
              "      <td>0.3</td>\n",
              "      <td>0.0</td>\n",
              "      <td>0.5</td>\n",
              "      <td>0.0</td>\n",
              "      <td>0.0</td>\n",
              "      <td>0.0</td>\n",
              "      <td>0.0</td>\n",
              "      <td>...</td>\n",
              "      <td>0</td>\n",
              "      <td>0</td>\n",
              "      <td>0</td>\n",
              "      <td>0</td>\n",
              "      <td>0</td>\n",
              "      <td>0</td>\n",
              "      <td>0</td>\n",
              "      <td>0</td>\n",
              "      <td>0</td>\n",
              "      <td>0</td>\n",
              "      <td>0</td>\n",
              "      <td>0</td>\n",
              "      <td>0</td>\n",
              "      <td>0</td>\n",
              "      <td>0</td>\n",
              "      <td>0</td>\n",
              "      <td>0</td>\n",
              "      <td>0</td>\n",
              "      <td>0</td>\n",
              "      <td>0</td>\n",
              "      <td>0</td>\n",
              "      <td>0</td>\n",
              "      <td>0</td>\n",
              "      <td>0</td>\n",
              "      <td>0</td>\n",
              "      <td>0</td>\n",
              "      <td>0</td>\n",
              "      <td>0</td>\n",
              "      <td>0</td>\n",
              "      <td>0</td>\n",
              "      <td>0</td>\n",
              "      <td>0</td>\n",
              "      <td>0</td>\n",
              "      <td>0</td>\n",
              "      <td>0</td>\n",
              "      <td>0</td>\n",
              "      <td>0</td>\n",
              "      <td>0</td>\n",
              "      <td>0</td>\n",
              "      <td>0</td>\n",
              "    </tr>\n",
              "    <tr>\n",
              "      <th>4</th>\n",
              "      <td>0.1</td>\n",
              "      <td>0.0</td>\n",
              "      <td>0.0</td>\n",
              "      <td>0.0</td>\n",
              "      <td>6.1</td>\n",
              "      <td>0.0</td>\n",
              "      <td>0.0</td>\n",
              "      <td>0.1</td>\n",
              "      <td>1.0</td>\n",
              "      <td>0.0</td>\n",
              "      <td>0.0</td>\n",
              "      <td>0.0</td>\n",
              "      <td>0.0</td>\n",
              "      <td>0.0</td>\n",
              "      <td>0.0</td>\n",
              "      <td>0.0</td>\n",
              "      <td>0.0</td>\n",
              "      <td>0.0</td>\n",
              "      <td>0.0</td>\n",
              "      <td>0.0</td>\n",
              "      <td>0.0</td>\n",
              "      <td>0.0</td>\n",
              "      <td>0.0</td>\n",
              "      <td>0.0</td>\n",
              "      <td>0.0</td>\n",
              "      <td>0.0</td>\n",
              "      <td>0.0</td>\n",
              "      <td>0.0</td>\n",
              "      <td>0.0</td>\n",
              "      <td>0.0</td>\n",
              "      <td>0.0</td>\n",
              "      <td>0.0</td>\n",
              "      <td>0.0</td>\n",
              "      <td>0.0</td>\n",
              "      <td>0.0</td>\n",
              "      <td>0.0</td>\n",
              "      <td>0.0</td>\n",
              "      <td>0.0</td>\n",
              "      <td>0.0</td>\n",
              "      <td>0.0</td>\n",
              "      <td>...</td>\n",
              "      <td>0</td>\n",
              "      <td>0</td>\n",
              "      <td>0</td>\n",
              "      <td>0</td>\n",
              "      <td>0</td>\n",
              "      <td>0</td>\n",
              "      <td>0</td>\n",
              "      <td>0</td>\n",
              "      <td>0</td>\n",
              "      <td>0</td>\n",
              "      <td>0</td>\n",
              "      <td>0</td>\n",
              "      <td>0</td>\n",
              "      <td>0</td>\n",
              "      <td>0</td>\n",
              "      <td>0</td>\n",
              "      <td>0</td>\n",
              "      <td>0</td>\n",
              "      <td>0</td>\n",
              "      <td>0</td>\n",
              "      <td>0</td>\n",
              "      <td>0</td>\n",
              "      <td>0</td>\n",
              "      <td>0</td>\n",
              "      <td>0</td>\n",
              "      <td>0</td>\n",
              "      <td>0</td>\n",
              "      <td>0</td>\n",
              "      <td>0</td>\n",
              "      <td>0</td>\n",
              "      <td>0</td>\n",
              "      <td>0</td>\n",
              "      <td>0</td>\n",
              "      <td>0</td>\n",
              "      <td>0</td>\n",
              "      <td>0</td>\n",
              "      <td>0</td>\n",
              "      <td>0</td>\n",
              "      <td>0</td>\n",
              "      <td>0</td>\n",
              "    </tr>\n",
              "  </tbody>\n",
              "</table>\n",
              "<p>5 rows × 320 columns</p>\n",
              "</div>"
            ],
            "text/plain": [
              "   1    2    3    4    5    6    7    ...  314  315  316  317  318  319  320\n",
              "0  0.1  0.0  0.0  0.3  0.2  0.0  0.0  ...    0    0    0    0    0    0    0\n",
              "1  0.1  0.0  0.0  0.0  0.0  0.0  0.0  ...    0    0    1    0    0    0    0\n",
              "2  0.1  0.0  0.0  0.0  0.4  0.3  0.0  ...    0    0    0    0    0    0    0\n",
              "3  0.2  0.0  0.0  0.3  0.0  0.0  0.1  ...    0    0    0    0    0    0    0\n",
              "4  0.1  0.0  0.0  0.0  6.1  0.0  0.0  ...    0    0    0    0    0    0    0\n",
              "\n",
              "[5 rows x 320 columns]"
            ]
          },
          "metadata": {},
          "execution_count": 151
        }
      ]
    },
    {
      "cell_type": "code",
      "metadata": {
        "colab": {
          "base_uri": "https://localhost:8080/"
        },
        "id": "nL-vN08bey7l",
        "outputId": "3b52f4ed-2416-4fe8-c52b-9374aa76223f"
      },
      "source": [
        "df.shape"
      ],
      "execution_count": 152,
      "outputs": [
        {
          "output_type": "execute_result",
          "data": {
            "text/plain": [
              "(100000, 320)"
            ]
          },
          "metadata": {},
          "execution_count": 152
        }
      ]
    },
    {
      "cell_type": "markdown",
      "metadata": {
        "id": "3jmHiKBWmxpY"
      },
      "source": [
        "The model is evaluated using k-fold cross validation."
      ]
    },
    {
      "cell_type": "code",
      "metadata": {
        "colab": {
          "base_uri": "https://localhost:8080/"
        },
        "id": "h5i-SToznlr-",
        "outputId": "81638777-1383-41d5-9e7f-9b682d1f4170"
      },
      "source": [
        "X = df[[i for i in range(1,161)]]\n",
        "y = df[[i for i in range(161,321)]]\n",
        "y.columns=[[i for i in range(1,161)]]\n",
        "print(X,y)"
      ],
      "execution_count": 153,
      "outputs": [
        {
          "output_type": "stream",
          "name": "stdout",
          "text": [
            "       1    2    3    4    5    6    7    ...  154  155  156  157  158  159  160\n",
            "0      0.1  0.0  0.0  0.3  0.2  0.0  0.0  ...  0.0  0.0  0.0  0.0  0.0  0.0  0.0\n",
            "1      0.1  0.0  0.0  0.0  0.0  0.0  0.0  ...  0.0  0.0  0.1  0.0  0.0  0.0  0.0\n",
            "2      0.1  0.0  0.0  0.0  0.4  0.3  0.0  ...  0.0  0.0  0.0  0.0  0.0  0.0  0.0\n",
            "3      0.2  0.0  0.0  0.3  0.0  0.0  0.1  ...  0.0  0.0  0.0  0.0  0.0  0.0  0.0\n",
            "4      0.1  0.0  0.0  0.0  6.1  0.0  0.0  ...  0.0  0.0  0.0  0.0  0.0  0.0  0.0\n",
            "...    ...  ...  ...  ...  ...  ...  ...  ...  ...  ...  ...  ...  ...  ...  ...\n",
            "99995  0.1  0.0  0.0  0.0  0.2  0.2  0.1  ...  0.0  0.0  0.0  0.0  0.0  0.0  0.0\n",
            "99996  0.1  0.0  0.0  0.0  0.4  0.0  0.1  ...  0.0  0.0  0.0  0.0  0.0  0.0  0.0\n",
            "99997  0.4  0.0  0.0  0.7  0.9  0.0  0.0  ...  0.0  0.0  0.0  0.0  0.0  0.0  0.0\n",
            "99998  0.1  0.0  0.0  0.0  2.7  0.0  0.0  ...  0.0  0.0  0.0  0.0  0.0  0.0  0.0\n",
            "99999  0.2  0.2  0.3  0.0  0.0  0.0  0.5  ...  0.0  0.0  0.0  0.0  0.0  0.0  0.0\n",
            "\n",
            "[100000 rows x 160 columns]       1   2   3   4   5   6   7   8   9    ... 152 153 154 155 156 157 158 159 160\n",
            "0       1   0   0   1   1   0   0   1   1  ...   0   0   0   0   0   0   0   0   0\n",
            "1       1   0   0   0   0   0   0   0   0  ...   0   0   0   0   1   0   0   0   0\n",
            "2       1   0   0   0   1   1   0   0   0  ...   0   0   0   0   0   0   0   0   0\n",
            "3       1   0   0   1   0   0   1   1   0  ...   0   0   0   0   0   0   0   0   0\n",
            "4       1   0   0   0   6   0   0   1   1  ...   0   0   0   0   0   0   0   0   0\n",
            "...    ..  ..  ..  ..  ..  ..  ..  ..  ..  ...  ..  ..  ..  ..  ..  ..  ..  ..  ..\n",
            "99995   1   0   0   0   1   1   1   0   0  ...   0   0   0   0   0   0   0   0   0\n",
            "99996   1   0   0   0   1   0   1   0   0  ...   0   0   0   0   0   0   0   0   0\n",
            "99997   1   0   0   1   1   0   0   0   1  ...   0   0   0   0   0   0   0   0   0\n",
            "99998   1   0   0   0   4   0   0   0   0  ...   0   0   0   0   0   0   0   0   0\n",
            "99999   1   1   1   0   0   0   1   0   0  ...   0   0   0   0   0   0   0   0   0\n",
            "\n",
            "[100000 rows x 160 columns]\n"
          ]
        }
      ]
    },
    {
      "cell_type": "markdown",
      "metadata": {
        "id": "U8VN9dNduVq_"
      },
      "source": [
        "Use this code snippet to run the model"
      ]
    },
    {
      "cell_type": "code",
      "metadata": {
        "id": "T-_4c-f643Rg"
      },
      "source": [
        "model = DecisionTreeRegressor()\n",
        "cv = RepeatedKFold(n_splits=10, n_repeats=3, random_state=1)\n",
        "n_scores = cross_val_score(model, X, y, scoring='neg_mean_absolute_error', cv=cv, n_jobs=-1)\n",
        "n_scores = absolute(n_scores)\n",
        "print('MAE: %.3f (%.3f)' % (mean(n_scores), std(n_scores)))"
      ],
      "execution_count": 154,
      "outputs": []
    },
    {
      "cell_type": "code",
      "metadata": {
        "colab": {
          "base_uri": "https://localhost:8080/"
        },
        "id": "7Ej6_19H7Lgn",
        "outputId": "330fa47d-662d-4ddc-8745-776715d6107f"
      },
      "source": [
        "model.fit(X, y)"
      ],
      "execution_count": 158,
      "outputs": [
        {
          "output_type": "execute_result",
          "data": {
            "text/plain": [
              "DecisionTreeRegressor()"
            ]
          },
          "metadata": {},
          "execution_count": 158
        }
      ]
    },
    {
      "cell_type": "code",
      "metadata": {
        "colab": {
          "base_uri": "https://localhost:8080/"
        },
        "id": "wMzYBsD57Asa",
        "outputId": "c4f8a6f8-be3c-496f-c8e0-dca4b01c5ded"
      },
      "source": [
        "yhat = model.predict([ans2])\n",
        "print(yhat[0])"
      ],
      "execution_count": 194,
      "outputs": [
        {
          "output_type": "stream",
          "name": "stdout",
          "text": [
            "[1. 0. 0. 0. 4. 1. 0. 0. 0. 1. 0. 0. 1. 0. 1. 1. 1. 0. 0. 0. 0. 0. 0. 0.\n",
            " 0. 0. 0. 0. 0. 0. 1. 0. 1. 0. 0. 0. 0. 0. 0. 0. 0. 1. 0. 0. 0. 1. 1. 0.\n",
            " 0. 0. 0. 0. 0. 0. 0. 0. 0. 0. 0. 0. 0. 0. 0. 0. 0. 0. 0. 0. 0. 0. 0. 0.\n",
            " 0. 0. 0. 0. 0. 0. 0. 0. 0. 0. 0. 0. 0. 0. 0. 0. 0. 0. 0. 0. 0. 0. 0. 0.\n",
            " 0. 0. 0. 0. 0. 0. 0. 0. 0. 0. 0. 0. 0. 0. 0. 0. 0. 0. 0. 0. 0. 0. 0. 0.\n",
            " 0. 0. 0. 0. 0. 0. 0. 0. 0. 0. 0. 0. 0. 0. 0. 0. 0. 0. 0. 0. 0. 0. 0. 0.\n",
            " 0. 0. 0. 0. 0. 0. 0. 0. 0. 0. 0. 0. 0. 0. 0. 0.]\n"
          ]
        }
      ]
    },
    {
      "cell_type": "code",
      "metadata": {
        "colab": {
          "base_uri": "https://localhost:8080/"
        },
        "id": "45mRZpNsCkiP",
        "outputId": "aec5ea58-46c4-4869-cd98-4b613ca720b7"
      },
      "source": [
        "import numpy as np\n",
        "y_val_lst = percent_to_hr(ans2)\n",
        "accuracy1 = (np.abs(yhat[0] - y_val_lst) <= 1 ).mean()\n",
        "accuracy2 = ((yhat[0] - y_val_lst) < 1 ).mean()\n",
        "accuracy3 = ((yhat[0] - y_val_lst) == 0 ).mean()\n",
        "print(accuracy1,accuracy2,accuracy3)"
      ],
      "execution_count": 195,
      "outputs": [
        {
          "output_type": "stream",
          "name": "stdout",
          "text": [
            "1.0 0.96875 0.95\n"
          ]
        }
      ]
    }
  ]
}